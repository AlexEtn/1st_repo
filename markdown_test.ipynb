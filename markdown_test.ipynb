{
  "nbformat": 4,
  "nbformat_minor": 0,
  "metadata": {
    "colab": {
      "provenance": [],
      "include_colab_link": true
    },
    "kernelspec": {
      "name": "python3",
      "display_name": "Python 3"
    },
    "language_info": {
      "name": "python"
    }
  },
  "cells": [
    {
      "cell_type": "markdown",
      "metadata": {
        "id": "view-in-github",
        "colab_type": "text"
      },
      "source": [
        "<a href=\"https://colab.research.google.com/github/AlexEtn/1st_repo/blob/upload-file/markdown_test.ipynb\" target=\"_parent\"><img src=\"https://colab.research.google.com/assets/colab-badge.svg\" alt=\"Open In Colab\"/></a>"
      ]
    },
    {
      "cell_type": "code",
      "execution_count": null,
      "metadata": {
        "id": "CVwTnr1syEL1"
      },
      "outputs": [],
      "source": []
    },
    {
      "cell_type": "markdown",
      "source": [
        "# Markdown Test\n",
        "\n",
        "* первый \n",
        "* второй\n",
        "* третий\n",
        "\n",
        "<image src=\"https://sun9-38.userapi.com/impg/dgDGPuAoBHMgl3ux7_TJqTEIBu5dOdThMfVLGQ/5Mzhsb1iz4I.jpg?size=606x606&quality=95&sign=cb5d311b82c8f174f4fea00077e80c2a&type=album\" alt=\"КОТ\" width=\"200\" height=\"200\">\n",
        "\n",
        "\n",
        "первая колонка        | вторая колонка\n",
        "-------------------   |------------------\n",
        "первое знач в первой  | первое знач во второй\n",
        "второе знач во второй | второе знач во второй\n",
        "\n",
        "[ссылка на ютуб](https://www.youtube.com/watch?v=dQw4w9WgXcQ)\n",
        "\n",
        "\n"
      ],
      "metadata": {
        "id": "sGUzhgiCyVab"
      }
    }
  ]
}